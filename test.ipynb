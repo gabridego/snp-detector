{
 "cells": [
  {
   "cell_type": "markdown",
   "metadata": {
    "toc": true
   },
   "source": [
    "<h1>Table of Contents<span class=\"tocSkip\"></span></h1>\n",
    "<div class=\"toc\"><ul class=\"toc-item\"></ul></div>"
   ]
  },
  {
   "cell_type": "markdown",
   "metadata": {},
   "source": [
    "**Read big file ()**"
   ]
  },
  {
   "cell_type": "code",
   "execution_count": 5,
   "metadata": {},
   "outputs": [],
   "source": [
    "import Bio.SeqIO"
   ]
  },
  {
   "cell_type": "code",
   "execution_count": null,
   "metadata": {
    "scrolled": true
   },
   "outputs": [],
   "source": [
    "seqs = []\n",
    "for record in Bio.SeqIO.parse(\"data/salmonella-enterica.reads.fna\",\"fasta\"):\n",
    "    seqs.append(str(record.seq))"
   ]
  },
  {
   "cell_type": "code",
   "execution_count": null,
   "metadata": {},
   "outputs": [],
   "source": [
    "len(seqs)*len(seqs[0])"
   ]
  },
  {
   "cell_type": "code",
   "execution_count": null,
   "metadata": {},
   "outputs": [],
   "source": [
    "498291750/5e6"
   ]
  },
  {
   "cell_type": "code",
   "execution_count": null,
   "metadata": {},
   "outputs": [],
   "source": [
    "seqs = []\n",
    "for record in Bio.SeqIO.parse(\"protein-structure-prediction/hands-on/reference-data/salmonella-enterica.reads.fna\",\"fasta\"):\n",
    "    seqs.append(str(record.seq))"
   ]
  },
  {
   "cell_type": "code",
   "execution_count": 6,
   "metadata": {},
   "outputs": [],
   "source": [
    "seqs = {}\n",
    "K = 20\n",
    "for record in Bio.SeqIO.parse(\"data/salmonella-enterica.reads.fna\",\"fasta\"):\n",
    "    seq = str(record.seq)\n",
    "    for i in range(len(seq) - K + 1):\n",
    "        chunk = seq[i:i+K]\n",
    "        if chunk not in seqs:\n",
    "            seqs[chunk] = 0\n",
    "        seqs[chunk] += 1"
   ]
  },
  {
   "cell_type": "code",
   "execution_count": 11,
   "metadata": {},
   "outputs": [
    {
     "data": {
      "text/plain": [
       "32299525"
      ]
     },
     "execution_count": 11,
     "metadata": {},
     "output_type": "execute_result"
    }
   ],
   "source": [
    "len(seqs)"
   ]
  },
  {
   "cell_type": "code",
   "execution_count": 16,
   "metadata": {},
   "outputs": [
    {
     "data": {
      "text/plain": [
       "2199"
      ]
     },
     "execution_count": 16,
     "metadata": {},
     "output_type": "execute_result"
    }
   ],
   "source": [
    "import numpy as np\n",
    "np.max(np.array(list(seqs.values())))"
   ]
  },
  {
   "cell_type": "code",
   "execution_count": null,
   "metadata": {},
   "outputs": [],
   "source": [
    "class Node(object):\n",
    "    def __init__(self, data):\n",
    "        self.data = data\n",
    "        self.children = {}\n",
    "        self.parent = None\n",
    "        self.count = 0\n",
    "        \n",
    "    def __str__(self):\n",
    "        return f\"{self.data}: parent {self.parent.data}, children {list(self.children.keys())}\"\n",
    "\n",
    "    def add_child(self, obj):\n",
    "        self.children[obj.data] = obj\n",
    "        \n",
    "    def set_parent(self, obj):\n",
    "        self.parent = obj\n",
    "        \n",
    "    def get_child(self, data):\n",
    "        return self.children[data]"
   ]
  },
  {
   "cell_type": "code",
   "execution_count": null,
   "metadata": {},
   "outputs": [],
   "source": [
    "len(seqs)"
   ]
  },
  {
   "cell_type": "code",
   "execution_count": null,
   "metadata": {},
   "outputs": [],
   "source": [
    "roots = {}\n",
    "K = 30\n",
    "leaves = set()\n",
    "\n",
    "for seq in seqs:\n",
    "    for i in range(len(seq) - K + 1):\n",
    "        s = seq[i:i+K]\n",
    "        if s[0] not in roots:\n",
    "            roots[s[0]] = Node(s[0])\n",
    "        parent = roots[s[0]]\n",
    "        for j in range(1, len(s)):\n",
    "            if s[j] not in parent.children:\n",
    "                new_node = Node(s[j])\n",
    "                parent.add_child(new_node)\n",
    "                new_node.set_parent(parent)\n",
    "            parent = parent.get_child(s[j])\n",
    "        parent.count += 1\n",
    "        leaves.add(parent)"
   ]
  },
  {
   "cell_type": "code",
   "execution_count": null,
   "metadata": {},
   "outputs": [],
   "source": [
    "for x in list(leaves):\n",
    "    print(x, \", count =\", x.count)"
   ]
  },
  {
   "cell_type": "code",
   "execution_count": null,
   "metadata": {},
   "outputs": [],
   "source": [
    "print(roots['C'])"
   ]
  },
  {
   "cell_type": "code",
   "execution_count": null,
   "metadata": {},
   "outputs": [],
   "source": [
    "seqs[0]"
   ]
  },
  {
   "cell_type": "code",
   "execution_count": null,
   "metadata": {},
   "outputs": [],
   "source": [
    "for x in roots:\n",
    "    x = roots[x]\n",
    "    y = x\n",
    "    while len(y.children) != 0:\n",
    "        print(y.data, end='')\n",
    "        y = y.children[list(y.children.keys())[0]]\n",
    "    print()"
   ]
  }
 ],
 "metadata": {
  "kernelspec": {
   "display_name": "Python 3",
   "language": "python",
   "name": "python3"
  },
  "language_info": {
   "codemirror_mode": {
    "name": "ipython",
    "version": 3
   },
   "file_extension": ".py",
   "mimetype": "text/x-python",
   "name": "python",
   "nbconvert_exporter": "python",
   "pygments_lexer": "ipython3",
   "version": "3.7.4"
  },
  "toc": {
   "base_numbering": 1,
   "nav_menu": {},
   "number_sections": true,
   "sideBar": true,
   "skip_h1_title": false,
   "title_cell": "Table of Contents",
   "title_sidebar": "Contents",
   "toc_cell": true,
   "toc_position": {},
   "toc_section_display": true,
   "toc_window_display": false
  }
 },
 "nbformat": 4,
 "nbformat_minor": 2
}